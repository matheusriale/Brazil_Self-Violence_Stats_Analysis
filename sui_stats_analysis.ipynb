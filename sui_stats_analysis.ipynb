{
 "cells": [
  {
   "cell_type": "code",
   "execution_count": 2,
   "id": "a9f6a738",
   "metadata": {},
   "outputs": [],
   "source": [
    "import pandas as pd"
   ]
  },
  {
   "cell_type": "code",
   "execution_count": 4,
   "id": "5f9f42c0-d41c-4e7b-96aa-42bc6869b8f9",
   "metadata": {},
   "outputs": [
    {
     "name": "stdout",
     "output_type": "stream",
     "text": [
      "    cod;nome;período;valor\n",
      "0           3;SE;1989;1971\n",
      "1             1;N;1989;220\n",
      "2            5;CO;1989;349\n",
      "3            2;NE;1989;540\n",
      "4            4;S;1989;1411\n",
      "..                     ...\n",
      "150         2;NE;2019;3082\n",
      "151         5;CO;2019;1283\n",
      "152         3;SE;2019;4930\n",
      "153          1;N;2019;1058\n",
      "154          4;S;2019;3167\n",
      "\n",
      "[155 rows x 1 columns]\n"
     ]
    }
   ],
   "source": [
    "all_sui_reg = pd.read_csv('Data/all_suicides/suicidios-reg.csv')\n",
    "print(all_sui_reg)"
   ]
  },
  {
   "cell_type": "code",
   "execution_count": 5,
   "id": "43d022ee",
   "metadata": {},
   "outputs": [
    {
     "name": "stdout",
     "output_type": "stream",
     "text": [
      "     cod nome  período  valor\n",
      "0      3   SE     1989   1971\n",
      "1      1    N     1989    220\n",
      "2      5   CO     1989    349\n",
      "3      2   NE     1989    540\n",
      "4      4    S     1989   1411\n",
      "..   ...  ...      ...    ...\n",
      "150    2   NE     2019   3082\n",
      "151    5   CO     2019   1283\n",
      "152    3   SE     2019   4930\n",
      "153    1    N     2019   1058\n",
      "154    4    S     2019   3167\n",
      "\n",
      "[155 rows x 4 columns]\n"
     ]
    }
   ],
   "source": [
    "# All of the files are csv, with separators ';'\n",
    "# Gonna try to adjust our Df accordingly\n",
    "\n",
    "all_sui_reg = pd.read_csv('Data/all_suicides/suicidios-reg.csv',sep=';')\n",
    "print(all_sui_reg)"
   ]
  },
  {
   "cell_type": "code",
   "execution_count": 7,
   "id": "f0c219e1",
   "metadata": {},
   "outputs": [],
   "source": [
    "# We need to adjust every df to plot them later on, and to have easier access to the data\n",
    "# For now we are going to adjust the regions, states(UFs), Men and Womens data.\n",
    "\n",
    "all_sui_uf = pd.read_csv('Data/all_suicides/suicidios-uf.csv',sep=';')\n",
    "men_sui_reg = pd.read_csv('Data/men/suicidios-de-homens-reg.csv',sep=';')\n",
    "wom_sui_reg = pd.read_csv('Data/women/suicidio-de-mulheres-reg.csv',sep=';')"
   ]
  },
  {
   "cell_type": "code",
   "execution_count": 8,
   "id": "4bca60d9",
   "metadata": {},
   "outputs": [
    {
     "name": "stdout",
     "output_type": "stream",
     "text": [
      "    cod nome  período  valor\n",
      "0     5   CO     2000    157\n",
      "1     1    N     2000     84\n",
      "2     2   NE     2000    261\n",
      "3     3   SE     2000    499\n",
      "4     4    S     2000    381\n",
      "..  ...  ...      ...    ...\n",
      "95    1    N     2019    231\n",
      "96    4    S     2019    653\n",
      "97    3   SE     2019   1117\n",
      "98    2   NE     2019    616\n",
      "99    5   CO     2019    302\n",
      "\n",
      "[100 rows x 4 columns]\n"
     ]
    }
   ],
   "source": [
    "# Let's take a look at how we can filter data\n",
    "print(wom_sui_reg)"
   ]
  }
 ],
 "metadata": {
  "kernelspec": {
   "display_name": "Python 3 (ipykernel)",
   "language": "python",
   "name": "python3"
  },
  "language_info": {
   "codemirror_mode": {
    "name": "ipython",
    "version": 3
   },
   "file_extension": ".py",
   "mimetype": "text/x-python",
   "name": "python",
   "nbconvert_exporter": "python",
   "pygments_lexer": "ipython3",
   "version": "3.9.12"
  }
 },
 "nbformat": 4,
 "nbformat_minor": 5
}
